{
 "cells": [
  {
   "cell_type": "code",
   "execution_count": 1,
   "id": "73fca9e6-c2a7-4634-a86e-01b944bc13f8",
   "metadata": {},
   "outputs": [
    {
     "name": "stdout",
     "output_type": "stream",
     "text": [
      "Requirement already satisfied: tensorflow in c:\\users\\santhosh\\appdata\\roaming\\python\\python310\\site-packages (2.19.0)\n",
      "Requirement already satisfied: absl-py>=1.0.0 in c:\\users\\santhosh\\anaconda3\\envs\\tfenv\\lib\\site-packages (from tensorflow) (2.2.2)\n",
      "Requirement already satisfied: astunparse>=1.6.0 in c:\\users\\santhosh\\anaconda3\\envs\\tfenv\\lib\\site-packages (from tensorflow) (1.6.3)\n",
      "Requirement already satisfied: flatbuffers>=24.3.25 in c:\\users\\santhosh\\anaconda3\\envs\\tfenv\\lib\\site-packages (from tensorflow) (25.2.10)\n",
      "Requirement already satisfied: gast!=0.5.0,!=0.5.1,!=0.5.2,>=0.2.1 in c:\\users\\santhosh\\anaconda3\\envs\\tfenv\\lib\\site-packages (from tensorflow) (0.6.0)\n",
      "Requirement already satisfied: google-pasta>=0.1.1 in c:\\users\\santhosh\\anaconda3\\envs\\tfenv\\lib\\site-packages (from tensorflow) (0.2.0)\n",
      "Requirement already satisfied: libclang>=13.0.0 in c:\\users\\santhosh\\anaconda3\\envs\\tfenv\\lib\\site-packages (from tensorflow) (18.1.1)\n",
      "Requirement already satisfied: opt-einsum>=2.3.2 in c:\\users\\santhosh\\anaconda3\\envs\\tfenv\\lib\\site-packages (from tensorflow) (3.4.0)\n",
      "Requirement already satisfied: packaging in c:\\users\\santhosh\\anaconda3\\envs\\tfenv\\lib\\site-packages (from tensorflow) (25.0)\n",
      "Requirement already satisfied: protobuf!=4.21.0,!=4.21.1,!=4.21.2,!=4.21.3,!=4.21.4,!=4.21.5,<6.0.0dev,>=3.20.3 in c:\\users\\santhosh\\anaconda3\\envs\\tfenv\\lib\\site-packages (from tensorflow) (4.25.7)\n",
      "Requirement already satisfied: requests<3,>=2.21.0 in c:\\users\\santhosh\\anaconda3\\envs\\tfenv\\lib\\site-packages (from tensorflow) (2.32.3)\n",
      "Requirement already satisfied: setuptools in c:\\users\\santhosh\\anaconda3\\envs\\tfenv\\lib\\site-packages (from tensorflow) (78.1.1)\n",
      "Requirement already satisfied: six>=1.12.0 in c:\\users\\santhosh\\anaconda3\\envs\\tfenv\\lib\\site-packages (from tensorflow) (1.17.0)\n",
      "Requirement already satisfied: termcolor>=1.1.0 in c:\\users\\santhosh\\anaconda3\\envs\\tfenv\\lib\\site-packages (from tensorflow) (3.1.0)\n",
      "Requirement already satisfied: typing-extensions>=3.6.6 in c:\\users\\santhosh\\anaconda3\\envs\\tfenv\\lib\\site-packages (from tensorflow) (4.13.2)\n",
      "Requirement already satisfied: wrapt>=1.11.0 in c:\\users\\santhosh\\anaconda3\\envs\\tfenv\\lib\\site-packages (from tensorflow) (1.14.1)\n",
      "Requirement already satisfied: grpcio<2.0,>=1.24.3 in c:\\users\\santhosh\\anaconda3\\envs\\tfenv\\lib\\site-packages (from tensorflow) (1.71.0)\n",
      "Requirement already satisfied: tensorboard~=2.19.0 in c:\\users\\santhosh\\anaconda3\\envs\\tfenv\\lib\\site-packages (from tensorflow) (2.19.0)\n",
      "Requirement already satisfied: keras>=3.5.0 in c:\\users\\santhosh\\anaconda3\\envs\\tfenv\\lib\\site-packages (from tensorflow) (3.9.2)\n",
      "Requirement already satisfied: numpy<2.2.0,>=1.26.0 in c:\\users\\santhosh\\anaconda3\\envs\\tfenv\\lib\\site-packages (from tensorflow) (1.26.4)\n",
      "Requirement already satisfied: h5py>=3.11.0 in c:\\users\\santhosh\\anaconda3\\envs\\tfenv\\lib\\site-packages (from tensorflow) (3.13.0)\n",
      "Requirement already satisfied: ml-dtypes<1.0.0,>=0.5.1 in c:\\users\\santhosh\\anaconda3\\envs\\tfenv\\lib\\site-packages (from tensorflow) (0.5.1)\n",
      "Requirement already satisfied: tensorflow-io-gcs-filesystem>=0.23.1 in c:\\users\\santhosh\\anaconda3\\envs\\tfenv\\lib\\site-packages (from tensorflow) (0.31.0)\n",
      "Requirement already satisfied: charset-normalizer<4,>=2 in c:\\users\\santhosh\\anaconda3\\envs\\tfenv\\lib\\site-packages (from requests<3,>=2.21.0->tensorflow) (3.4.2)\n",
      "Requirement already satisfied: idna<4,>=2.5 in c:\\users\\santhosh\\anaconda3\\envs\\tfenv\\lib\\site-packages (from requests<3,>=2.21.0->tensorflow) (3.10)\n",
      "Requirement already satisfied: urllib3<3,>=1.21.1 in c:\\users\\santhosh\\anaconda3\\envs\\tfenv\\lib\\site-packages (from requests<3,>=2.21.0->tensorflow) (2.4.0)\n",
      "Requirement already satisfied: certifi>=2017.4.17 in c:\\users\\santhosh\\anaconda3\\envs\\tfenv\\lib\\site-packages (from requests<3,>=2.21.0->tensorflow) (2025.4.26)\n",
      "Requirement already satisfied: markdown>=2.6.8 in c:\\users\\santhosh\\anaconda3\\envs\\tfenv\\lib\\site-packages (from tensorboard~=2.19.0->tensorflow) (3.8)\n",
      "Requirement already satisfied: tensorboard-data-server<0.8.0,>=0.7.0 in c:\\users\\santhosh\\anaconda3\\envs\\tfenv\\lib\\site-packages (from tensorboard~=2.19.0->tensorflow) (0.7.2)\n",
      "Requirement already satisfied: werkzeug>=1.0.1 in c:\\users\\santhosh\\anaconda3\\envs\\tfenv\\lib\\site-packages (from tensorboard~=2.19.0->tensorflow) (3.1.3)\n",
      "Requirement already satisfied: wheel<1.0,>=0.23.0 in c:\\users\\santhosh\\anaconda3\\envs\\tfenv\\lib\\site-packages (from astunparse>=1.6.0->tensorflow) (0.45.1)\n",
      "Requirement already satisfied: rich in c:\\users\\santhosh\\anaconda3\\envs\\tfenv\\lib\\site-packages (from keras>=3.5.0->tensorflow) (14.0.0)\n",
      "Requirement already satisfied: namex in c:\\users\\santhosh\\anaconda3\\envs\\tfenv\\lib\\site-packages (from keras>=3.5.0->tensorflow) (0.0.9)\n",
      "Requirement already satisfied: optree in c:\\users\\santhosh\\anaconda3\\envs\\tfenv\\lib\\site-packages (from keras>=3.5.0->tensorflow) (0.15.0)\n",
      "Requirement already satisfied: MarkupSafe>=2.1.1 in c:\\users\\santhosh\\anaconda3\\envs\\tfenv\\lib\\site-packages (from werkzeug>=1.0.1->tensorboard~=2.19.0->tensorflow) (3.0.2)\n",
      "Requirement already satisfied: markdown-it-py>=2.2.0 in c:\\users\\santhosh\\anaconda3\\envs\\tfenv\\lib\\site-packages (from rich->keras>=3.5.0->tensorflow) (3.0.0)\n",
      "Requirement already satisfied: pygments<3.0.0,>=2.13.0 in c:\\users\\santhosh\\anaconda3\\envs\\tfenv\\lib\\site-packages (from rich->keras>=3.5.0->tensorflow) (2.19.1)\n",
      "Requirement already satisfied: mdurl~=0.1 in c:\\users\\santhosh\\anaconda3\\envs\\tfenv\\lib\\site-packages (from markdown-it-py>=2.2.0->rich->keras>=3.5.0->tensorflow) (0.1.2)\n"
     ]
    }
   ],
   "source": [
    "!pip install tensorflow"
   ]
  },
  {
   "cell_type": "code",
   "execution_count": 2,
   "id": "4a19bb25-0936-4be9-8b59-8362451a30b9",
   "metadata": {},
   "outputs": [
    {
     "name": "stdout",
     "output_type": "stream",
     "text": [
      "Requirement already satisfied: tensorflow-hub in c:\\users\\santhosh\\appdata\\roaming\\python\\python310\\site-packages (0.16.1)\n",
      "Requirement already satisfied: numpy>=1.12.0 in c:\\users\\santhosh\\anaconda3\\envs\\tfenv\\lib\\site-packages (from tensorflow-hub) (1.26.4)\n",
      "Requirement already satisfied: protobuf>=3.19.6 in c:\\users\\santhosh\\anaconda3\\envs\\tfenv\\lib\\site-packages (from tensorflow-hub) (4.25.7)\n",
      "Requirement already satisfied: tf-keras>=2.14.1 in c:\\users\\santhosh\\appdata\\roaming\\python\\python310\\site-packages (from tensorflow-hub) (2.19.0)\n",
      "Requirement already satisfied: tensorflow<2.20,>=2.19 in c:\\users\\santhosh\\appdata\\roaming\\python\\python310\\site-packages (from tf-keras>=2.14.1->tensorflow-hub) (2.19.0)\n",
      "Requirement already satisfied: absl-py>=1.0.0 in c:\\users\\santhosh\\anaconda3\\envs\\tfenv\\lib\\site-packages (from tensorflow<2.20,>=2.19->tf-keras>=2.14.1->tensorflow-hub) (2.2.2)\n",
      "Requirement already satisfied: astunparse>=1.6.0 in c:\\users\\santhosh\\anaconda3\\envs\\tfenv\\lib\\site-packages (from tensorflow<2.20,>=2.19->tf-keras>=2.14.1->tensorflow-hub) (1.6.3)\n",
      "Requirement already satisfied: flatbuffers>=24.3.25 in c:\\users\\santhosh\\anaconda3\\envs\\tfenv\\lib\\site-packages (from tensorflow<2.20,>=2.19->tf-keras>=2.14.1->tensorflow-hub) (25.2.10)\n",
      "Requirement already satisfied: gast!=0.5.0,!=0.5.1,!=0.5.2,>=0.2.1 in c:\\users\\santhosh\\anaconda3\\envs\\tfenv\\lib\\site-packages (from tensorflow<2.20,>=2.19->tf-keras>=2.14.1->tensorflow-hub) (0.6.0)\n",
      "Requirement already satisfied: google-pasta>=0.1.1 in c:\\users\\santhosh\\anaconda3\\envs\\tfenv\\lib\\site-packages (from tensorflow<2.20,>=2.19->tf-keras>=2.14.1->tensorflow-hub) (0.2.0)\n",
      "Requirement already satisfied: libclang>=13.0.0 in c:\\users\\santhosh\\anaconda3\\envs\\tfenv\\lib\\site-packages (from tensorflow<2.20,>=2.19->tf-keras>=2.14.1->tensorflow-hub) (18.1.1)\n",
      "Requirement already satisfied: opt-einsum>=2.3.2 in c:\\users\\santhosh\\anaconda3\\envs\\tfenv\\lib\\site-packages (from tensorflow<2.20,>=2.19->tf-keras>=2.14.1->tensorflow-hub) (3.4.0)\n",
      "Requirement already satisfied: packaging in c:\\users\\santhosh\\anaconda3\\envs\\tfenv\\lib\\site-packages (from tensorflow<2.20,>=2.19->tf-keras>=2.14.1->tensorflow-hub) (25.0)\n",
      "Requirement already satisfied: requests<3,>=2.21.0 in c:\\users\\santhosh\\anaconda3\\envs\\tfenv\\lib\\site-packages (from tensorflow<2.20,>=2.19->tf-keras>=2.14.1->tensorflow-hub) (2.32.3)\n",
      "Requirement already satisfied: setuptools in c:\\users\\santhosh\\anaconda3\\envs\\tfenv\\lib\\site-packages (from tensorflow<2.20,>=2.19->tf-keras>=2.14.1->tensorflow-hub) (78.1.1)\n",
      "Requirement already satisfied: six>=1.12.0 in c:\\users\\santhosh\\anaconda3\\envs\\tfenv\\lib\\site-packages (from tensorflow<2.20,>=2.19->tf-keras>=2.14.1->tensorflow-hub) (1.17.0)\n",
      "Requirement already satisfied: termcolor>=1.1.0 in c:\\users\\santhosh\\anaconda3\\envs\\tfenv\\lib\\site-packages (from tensorflow<2.20,>=2.19->tf-keras>=2.14.1->tensorflow-hub) (3.1.0)\n",
      "Requirement already satisfied: typing-extensions>=3.6.6 in c:\\users\\santhosh\\anaconda3\\envs\\tfenv\\lib\\site-packages (from tensorflow<2.20,>=2.19->tf-keras>=2.14.1->tensorflow-hub) (4.13.2)\n",
      "Requirement already satisfied: wrapt>=1.11.0 in c:\\users\\santhosh\\anaconda3\\envs\\tfenv\\lib\\site-packages (from tensorflow<2.20,>=2.19->tf-keras>=2.14.1->tensorflow-hub) (1.14.1)\n",
      "Requirement already satisfied: grpcio<2.0,>=1.24.3 in c:\\users\\santhosh\\anaconda3\\envs\\tfenv\\lib\\site-packages (from tensorflow<2.20,>=2.19->tf-keras>=2.14.1->tensorflow-hub) (1.71.0)\n",
      "Requirement already satisfied: tensorboard~=2.19.0 in c:\\users\\santhosh\\anaconda3\\envs\\tfenv\\lib\\site-packages (from tensorflow<2.20,>=2.19->tf-keras>=2.14.1->tensorflow-hub) (2.19.0)\n",
      "Requirement already satisfied: keras>=3.5.0 in c:\\users\\santhosh\\anaconda3\\envs\\tfenv\\lib\\site-packages (from tensorflow<2.20,>=2.19->tf-keras>=2.14.1->tensorflow-hub) (3.9.2)\n",
      "Requirement already satisfied: h5py>=3.11.0 in c:\\users\\santhosh\\anaconda3\\envs\\tfenv\\lib\\site-packages (from tensorflow<2.20,>=2.19->tf-keras>=2.14.1->tensorflow-hub) (3.13.0)\n",
      "Requirement already satisfied: ml-dtypes<1.0.0,>=0.5.1 in c:\\users\\santhosh\\anaconda3\\envs\\tfenv\\lib\\site-packages (from tensorflow<2.20,>=2.19->tf-keras>=2.14.1->tensorflow-hub) (0.5.1)\n",
      "Requirement already satisfied: tensorflow-io-gcs-filesystem>=0.23.1 in c:\\users\\santhosh\\anaconda3\\envs\\tfenv\\lib\\site-packages (from tensorflow<2.20,>=2.19->tf-keras>=2.14.1->tensorflow-hub) (0.31.0)\n",
      "Requirement already satisfied: charset-normalizer<4,>=2 in c:\\users\\santhosh\\anaconda3\\envs\\tfenv\\lib\\site-packages (from requests<3,>=2.21.0->tensorflow<2.20,>=2.19->tf-keras>=2.14.1->tensorflow-hub) (3.4.2)\n",
      "Requirement already satisfied: idna<4,>=2.5 in c:\\users\\santhosh\\anaconda3\\envs\\tfenv\\lib\\site-packages (from requests<3,>=2.21.0->tensorflow<2.20,>=2.19->tf-keras>=2.14.1->tensorflow-hub) (3.10)\n",
      "Requirement already satisfied: urllib3<3,>=1.21.1 in c:\\users\\santhosh\\anaconda3\\envs\\tfenv\\lib\\site-packages (from requests<3,>=2.21.0->tensorflow<2.20,>=2.19->tf-keras>=2.14.1->tensorflow-hub) (2.4.0)\n",
      "Requirement already satisfied: certifi>=2017.4.17 in c:\\users\\santhosh\\anaconda3\\envs\\tfenv\\lib\\site-packages (from requests<3,>=2.21.0->tensorflow<2.20,>=2.19->tf-keras>=2.14.1->tensorflow-hub) (2025.4.26)\n",
      "Requirement already satisfied: markdown>=2.6.8 in c:\\users\\santhosh\\anaconda3\\envs\\tfenv\\lib\\site-packages (from tensorboard~=2.19.0->tensorflow<2.20,>=2.19->tf-keras>=2.14.1->tensorflow-hub) (3.8)\n",
      "Requirement already satisfied: tensorboard-data-server<0.8.0,>=0.7.0 in c:\\users\\santhosh\\anaconda3\\envs\\tfenv\\lib\\site-packages (from tensorboard~=2.19.0->tensorflow<2.20,>=2.19->tf-keras>=2.14.1->tensorflow-hub) (0.7.2)\n",
      "Requirement already satisfied: werkzeug>=1.0.1 in c:\\users\\santhosh\\anaconda3\\envs\\tfenv\\lib\\site-packages (from tensorboard~=2.19.0->tensorflow<2.20,>=2.19->tf-keras>=2.14.1->tensorflow-hub) (3.1.3)\n",
      "Requirement already satisfied: wheel<1.0,>=0.23.0 in c:\\users\\santhosh\\anaconda3\\envs\\tfenv\\lib\\site-packages (from astunparse>=1.6.0->tensorflow<2.20,>=2.19->tf-keras>=2.14.1->tensorflow-hub) (0.45.1)\n",
      "Requirement already satisfied: rich in c:\\users\\santhosh\\anaconda3\\envs\\tfenv\\lib\\site-packages (from keras>=3.5.0->tensorflow<2.20,>=2.19->tf-keras>=2.14.1->tensorflow-hub) (14.0.0)\n",
      "Requirement already satisfied: namex in c:\\users\\santhosh\\anaconda3\\envs\\tfenv\\lib\\site-packages (from keras>=3.5.0->tensorflow<2.20,>=2.19->tf-keras>=2.14.1->tensorflow-hub) (0.0.9)\n",
      "Requirement already satisfied: optree in c:\\users\\santhosh\\anaconda3\\envs\\tfenv\\lib\\site-packages (from keras>=3.5.0->tensorflow<2.20,>=2.19->tf-keras>=2.14.1->tensorflow-hub) (0.15.0)\n",
      "Requirement already satisfied: MarkupSafe>=2.1.1 in c:\\users\\santhosh\\anaconda3\\envs\\tfenv\\lib\\site-packages (from werkzeug>=1.0.1->tensorboard~=2.19.0->tensorflow<2.20,>=2.19->tf-keras>=2.14.1->tensorflow-hub) (3.0.2)\n",
      "Requirement already satisfied: markdown-it-py>=2.2.0 in c:\\users\\santhosh\\anaconda3\\envs\\tfenv\\lib\\site-packages (from rich->keras>=3.5.0->tensorflow<2.20,>=2.19->tf-keras>=2.14.1->tensorflow-hub) (3.0.0)\n",
      "Requirement already satisfied: pygments<3.0.0,>=2.13.0 in c:\\users\\santhosh\\anaconda3\\envs\\tfenv\\lib\\site-packages (from rich->keras>=3.5.0->tensorflow<2.20,>=2.19->tf-keras>=2.14.1->tensorflow-hub) (2.19.1)\n",
      "Requirement already satisfied: mdurl~=0.1 in c:\\users\\santhosh\\anaconda3\\envs\\tfenv\\lib\\site-packages (from markdown-it-py>=2.2.0->rich->keras>=3.5.0->tensorflow<2.20,>=2.19->tf-keras>=2.14.1->tensorflow-hub) (0.1.2)\n"
     ]
    }
   ],
   "source": [
    "!pip install tensorflow-hub"
   ]
  },
  {
   "cell_type": "code",
   "execution_count": 3,
   "id": "3c08569f-1a6e-4834-b0ff-735008d08298",
   "metadata": {},
   "outputs": [
    {
     "name": "stdout",
     "output_type": "stream",
     "text": [
      "Requirement already satisfied: opencv-python in c:\\users\\santhosh\\anaconda3\\envs\\tfenv\\lib\\site-packages (4.11.0.86)\n",
      "Requirement already satisfied: numpy>=1.21.2 in c:\\users\\santhosh\\anaconda3\\envs\\tfenv\\lib\\site-packages (from opencv-python) (1.26.4)\n"
     ]
    }
   ],
   "source": [
    "!pip install opencv-python"
   ]
  },
  {
   "cell_type": "code",
   "execution_count": 4,
   "id": "e049f071-0c90-4d5d-b5ef-ea0468ce9496",
   "metadata": {},
   "outputs": [
    {
     "name": "stdout",
     "output_type": "stream",
     "text": [
      "Requirement already satisfied: numpy in c:\\users\\santhosh\\anaconda3\\envs\\tfenv\\lib\\site-packages (1.26.4)\n"
     ]
    }
   ],
   "source": [
    "!pip install numpy"
   ]
  },
  {
   "cell_type": "code",
   "execution_count": 5,
   "id": "891d7f5f-50e0-4245-b0e2-bfbb9b7634f3",
   "metadata": {},
   "outputs": [
    {
     "name": "stdout",
     "output_type": "stream",
     "text": [
      "Requirement already satisfied: matplotlib in c:\\users\\santhosh\\anaconda3\\envs\\tfenv\\lib\\site-packages (3.10.3)\n",
      "Requirement already satisfied: contourpy>=1.0.1 in c:\\users\\santhosh\\anaconda3\\envs\\tfenv\\lib\\site-packages (from matplotlib) (1.3.2)\n",
      "Requirement already satisfied: cycler>=0.10 in c:\\users\\santhosh\\anaconda3\\envs\\tfenv\\lib\\site-packages (from matplotlib) (0.12.1)\n",
      "Requirement already satisfied: fonttools>=4.22.0 in c:\\users\\santhosh\\anaconda3\\envs\\tfenv\\lib\\site-packages (from matplotlib) (4.58.0)\n",
      "Requirement already satisfied: kiwisolver>=1.3.1 in c:\\users\\santhosh\\anaconda3\\envs\\tfenv\\lib\\site-packages (from matplotlib) (1.4.8)\n",
      "Requirement already satisfied: numpy>=1.23 in c:\\users\\santhosh\\anaconda3\\envs\\tfenv\\lib\\site-packages (from matplotlib) (1.26.4)\n",
      "Requirement already satisfied: packaging>=20.0 in c:\\users\\santhosh\\anaconda3\\envs\\tfenv\\lib\\site-packages (from matplotlib) (25.0)\n",
      "Requirement already satisfied: pillow>=8 in c:\\users\\santhosh\\anaconda3\\envs\\tfenv\\lib\\site-packages (from matplotlib) (11.2.1)\n",
      "Requirement already satisfied: pyparsing>=2.3.1 in c:\\users\\santhosh\\anaconda3\\envs\\tfenv\\lib\\site-packages (from matplotlib) (3.2.3)\n",
      "Requirement already satisfied: python-dateutil>=2.7 in c:\\users\\santhosh\\anaconda3\\envs\\tfenv\\lib\\site-packages (from matplotlib) (2.9.0.post0)\n",
      "Requirement already satisfied: six>=1.5 in c:\\users\\santhosh\\anaconda3\\envs\\tfenv\\lib\\site-packages (from python-dateutil>=2.7->matplotlib) (1.17.0)\n"
     ]
    }
   ],
   "source": [
    "!pip install matplotlib"
   ]
  },
  {
   "cell_type": "code",
   "execution_count": 6,
   "id": "a739a39f-e275-4659-bdc7-a7ef67483bee",
   "metadata": {},
   "outputs": [
    {
     "name": "stdout",
     "output_type": "stream",
     "text": [
      "Requirement already satisfied: tensorflow-hub in c:\\users\\santhosh\\appdata\\roaming\\python\\python310\\site-packages (0.16.1)\n",
      "Requirement already satisfied: numpy>=1.12.0 in c:\\users\\santhosh\\anaconda3\\envs\\tfenv\\lib\\site-packages (from tensorflow-hub) (1.26.4)\n",
      "Requirement already satisfied: protobuf>=3.19.6 in c:\\users\\santhosh\\anaconda3\\envs\\tfenv\\lib\\site-packages (from tensorflow-hub) (4.25.7)\n",
      "Requirement already satisfied: tf-keras>=2.14.1 in c:\\users\\santhosh\\appdata\\roaming\\python\\python310\\site-packages (from tensorflow-hub) (2.19.0)\n",
      "Requirement already satisfied: tensorflow<2.20,>=2.19 in c:\\users\\santhosh\\appdata\\roaming\\python\\python310\\site-packages (from tf-keras>=2.14.1->tensorflow-hub) (2.19.0)\n",
      "Requirement already satisfied: absl-py>=1.0.0 in c:\\users\\santhosh\\anaconda3\\envs\\tfenv\\lib\\site-packages (from tensorflow<2.20,>=2.19->tf-keras>=2.14.1->tensorflow-hub) (2.2.2)\n",
      "Requirement already satisfied: astunparse>=1.6.0 in c:\\users\\santhosh\\anaconda3\\envs\\tfenv\\lib\\site-packages (from tensorflow<2.20,>=2.19->tf-keras>=2.14.1->tensorflow-hub) (1.6.3)\n",
      "Requirement already satisfied: flatbuffers>=24.3.25 in c:\\users\\santhosh\\anaconda3\\envs\\tfenv\\lib\\site-packages (from tensorflow<2.20,>=2.19->tf-keras>=2.14.1->tensorflow-hub) (25.2.10)\n",
      "Requirement already satisfied: gast!=0.5.0,!=0.5.1,!=0.5.2,>=0.2.1 in c:\\users\\santhosh\\anaconda3\\envs\\tfenv\\lib\\site-packages (from tensorflow<2.20,>=2.19->tf-keras>=2.14.1->tensorflow-hub) (0.6.0)\n",
      "Requirement already satisfied: google-pasta>=0.1.1 in c:\\users\\santhosh\\anaconda3\\envs\\tfenv\\lib\\site-packages (from tensorflow<2.20,>=2.19->tf-keras>=2.14.1->tensorflow-hub) (0.2.0)\n",
      "Requirement already satisfied: libclang>=13.0.0 in c:\\users\\santhosh\\anaconda3\\envs\\tfenv\\lib\\site-packages (from tensorflow<2.20,>=2.19->tf-keras>=2.14.1->tensorflow-hub) (18.1.1)\n",
      "Requirement already satisfied: opt-einsum>=2.3.2 in c:\\users\\santhosh\\anaconda3\\envs\\tfenv\\lib\\site-packages (from tensorflow<2.20,>=2.19->tf-keras>=2.14.1->tensorflow-hub) (3.4.0)\n",
      "Requirement already satisfied: packaging in c:\\users\\santhosh\\anaconda3\\envs\\tfenv\\lib\\site-packages (from tensorflow<2.20,>=2.19->tf-keras>=2.14.1->tensorflow-hub) (25.0)\n",
      "Requirement already satisfied: requests<3,>=2.21.0 in c:\\users\\santhosh\\anaconda3\\envs\\tfenv\\lib\\site-packages (from tensorflow<2.20,>=2.19->tf-keras>=2.14.1->tensorflow-hub) (2.32.3)\n",
      "Requirement already satisfied: setuptools in c:\\users\\santhosh\\anaconda3\\envs\\tfenv\\lib\\site-packages (from tensorflow<2.20,>=2.19->tf-keras>=2.14.1->tensorflow-hub) (78.1.1)\n",
      "Requirement already satisfied: six>=1.12.0 in c:\\users\\santhosh\\anaconda3\\envs\\tfenv\\lib\\site-packages (from tensorflow<2.20,>=2.19->tf-keras>=2.14.1->tensorflow-hub) (1.17.0)\n",
      "Requirement already satisfied: termcolor>=1.1.0 in c:\\users\\santhosh\\anaconda3\\envs\\tfenv\\lib\\site-packages (from tensorflow<2.20,>=2.19->tf-keras>=2.14.1->tensorflow-hub) (3.1.0)\n",
      "Requirement already satisfied: typing-extensions>=3.6.6 in c:\\users\\santhosh\\anaconda3\\envs\\tfenv\\lib\\site-packages (from tensorflow<2.20,>=2.19->tf-keras>=2.14.1->tensorflow-hub) (4.13.2)\n",
      "Requirement already satisfied: wrapt>=1.11.0 in c:\\users\\santhosh\\anaconda3\\envs\\tfenv\\lib\\site-packages (from tensorflow<2.20,>=2.19->tf-keras>=2.14.1->tensorflow-hub) (1.14.1)\n",
      "Requirement already satisfied: grpcio<2.0,>=1.24.3 in c:\\users\\santhosh\\anaconda3\\envs\\tfenv\\lib\\site-packages (from tensorflow<2.20,>=2.19->tf-keras>=2.14.1->tensorflow-hub) (1.71.0)\n",
      "Requirement already satisfied: tensorboard~=2.19.0 in c:\\users\\santhosh\\anaconda3\\envs\\tfenv\\lib\\site-packages (from tensorflow<2.20,>=2.19->tf-keras>=2.14.1->tensorflow-hub) (2.19.0)\n",
      "Requirement already satisfied: keras>=3.5.0 in c:\\users\\santhosh\\anaconda3\\envs\\tfenv\\lib\\site-packages (from tensorflow<2.20,>=2.19->tf-keras>=2.14.1->tensorflow-hub) (3.9.2)\n",
      "Requirement already satisfied: h5py>=3.11.0 in c:\\users\\santhosh\\anaconda3\\envs\\tfenv\\lib\\site-packages (from tensorflow<2.20,>=2.19->tf-keras>=2.14.1->tensorflow-hub) (3.13.0)\n",
      "Requirement already satisfied: ml-dtypes<1.0.0,>=0.5.1 in c:\\users\\santhosh\\anaconda3\\envs\\tfenv\\lib\\site-packages (from tensorflow<2.20,>=2.19->tf-keras>=2.14.1->tensorflow-hub) (0.5.1)\n",
      "Requirement already satisfied: tensorflow-io-gcs-filesystem>=0.23.1 in c:\\users\\santhosh\\anaconda3\\envs\\tfenv\\lib\\site-packages (from tensorflow<2.20,>=2.19->tf-keras>=2.14.1->tensorflow-hub) (0.31.0)\n",
      "Requirement already satisfied: charset-normalizer<4,>=2 in c:\\users\\santhosh\\anaconda3\\envs\\tfenv\\lib\\site-packages (from requests<3,>=2.21.0->tensorflow<2.20,>=2.19->tf-keras>=2.14.1->tensorflow-hub) (3.4.2)\n",
      "Requirement already satisfied: idna<4,>=2.5 in c:\\users\\santhosh\\anaconda3\\envs\\tfenv\\lib\\site-packages (from requests<3,>=2.21.0->tensorflow<2.20,>=2.19->tf-keras>=2.14.1->tensorflow-hub) (3.10)\n",
      "Requirement already satisfied: urllib3<3,>=1.21.1 in c:\\users\\santhosh\\anaconda3\\envs\\tfenv\\lib\\site-packages (from requests<3,>=2.21.0->tensorflow<2.20,>=2.19->tf-keras>=2.14.1->tensorflow-hub) (2.4.0)\n",
      "Requirement already satisfied: certifi>=2017.4.17 in c:\\users\\santhosh\\anaconda3\\envs\\tfenv\\lib\\site-packages (from requests<3,>=2.21.0->tensorflow<2.20,>=2.19->tf-keras>=2.14.1->tensorflow-hub) (2025.4.26)\n",
      "Requirement already satisfied: markdown>=2.6.8 in c:\\users\\santhosh\\anaconda3\\envs\\tfenv\\lib\\site-packages (from tensorboard~=2.19.0->tensorflow<2.20,>=2.19->tf-keras>=2.14.1->tensorflow-hub) (3.8)\n",
      "Requirement already satisfied: tensorboard-data-server<0.8.0,>=0.7.0 in c:\\users\\santhosh\\anaconda3\\envs\\tfenv\\lib\\site-packages (from tensorboard~=2.19.0->tensorflow<2.20,>=2.19->tf-keras>=2.14.1->tensorflow-hub) (0.7.2)\n",
      "Requirement already satisfied: werkzeug>=1.0.1 in c:\\users\\santhosh\\anaconda3\\envs\\tfenv\\lib\\site-packages (from tensorboard~=2.19.0->tensorflow<2.20,>=2.19->tf-keras>=2.14.1->tensorflow-hub) (3.1.3)\n",
      "Requirement already satisfied: wheel<1.0,>=0.23.0 in c:\\users\\santhosh\\anaconda3\\envs\\tfenv\\lib\\site-packages (from astunparse>=1.6.0->tensorflow<2.20,>=2.19->tf-keras>=2.14.1->tensorflow-hub) (0.45.1)\n",
      "Requirement already satisfied: rich in c:\\users\\santhosh\\anaconda3\\envs\\tfenv\\lib\\site-packages (from keras>=3.5.0->tensorflow<2.20,>=2.19->tf-keras>=2.14.1->tensorflow-hub) (14.0.0)\n",
      "Requirement already satisfied: namex in c:\\users\\santhosh\\anaconda3\\envs\\tfenv\\lib\\site-packages (from keras>=3.5.0->tensorflow<2.20,>=2.19->tf-keras>=2.14.1->tensorflow-hub) (0.0.9)\n",
      "Requirement already satisfied: optree in c:\\users\\santhosh\\anaconda3\\envs\\tfenv\\lib\\site-packages (from keras>=3.5.0->tensorflow<2.20,>=2.19->tf-keras>=2.14.1->tensorflow-hub) (0.15.0)\n",
      "Requirement already satisfied: MarkupSafe>=2.1.1 in c:\\users\\santhosh\\anaconda3\\envs\\tfenv\\lib\\site-packages (from werkzeug>=1.0.1->tensorboard~=2.19.0->tensorflow<2.20,>=2.19->tf-keras>=2.14.1->tensorflow-hub) (3.0.2)\n",
      "Requirement already satisfied: markdown-it-py>=2.2.0 in c:\\users\\santhosh\\anaconda3\\envs\\tfenv\\lib\\site-packages (from rich->keras>=3.5.0->tensorflow<2.20,>=2.19->tf-keras>=2.14.1->tensorflow-hub) (3.0.0)\n",
      "Requirement already satisfied: pygments<3.0.0,>=2.13.0 in c:\\users\\santhosh\\anaconda3\\envs\\tfenv\\lib\\site-packages (from rich->keras>=3.5.0->tensorflow<2.20,>=2.19->tf-keras>=2.14.1->tensorflow-hub) (2.19.1)\n",
      "Requirement already satisfied: mdurl~=0.1 in c:\\users\\santhosh\\anaconda3\\envs\\tfenv\\lib\\site-packages (from markdown-it-py>=2.2.0->rich->keras>=3.5.0->tensorflow<2.20,>=2.19->tf-keras>=2.14.1->tensorflow-hub) (0.1.2)\n"
     ]
    }
   ],
   "source": [
    "!pip install --upgrade tensorflow-hub"
   ]
  },
  {
   "cell_type": "code",
   "execution_count": 7,
   "id": "cc3a9770-ccc6-4de3-9991-99a94c70d93c",
   "metadata": {},
   "outputs": [
    {
     "name": "stdout",
     "output_type": "stream",
     "text": [
      "C:\\Users\\santhosh\\anaconda3\\envs\\tfenv\\python.exe\n",
      "Name: tensorflow-hub\n",
      "Version: 0.16.1\n",
      "Summary: TensorFlow Hub is a library to foster the publication, discovery, and consumption of reusable parts of machine learning models.\n",
      "Home-page: https://github.com/tensorflow/hub\n",
      "Author: Google LLC\n",
      "Author-email: packages@tensorflow.org\n",
      "License: Apache 2.0\n",
      "Location: c:\\users\\santhosh\\appdata\\roaming\\python\\python310\\site-packages\n",
      "Requires: numpy, protobuf, tf-keras\n",
      "Required-by: \n"
     ]
    }
   ],
   "source": [
    "import sys\n",
    "print(sys.executable)  # Shows exact python path running the notebook\n",
    "!{sys.executable} -m pip show tensorflow-hub"
   ]
  },
  {
   "cell_type": "code",
   "execution_count": 8,
   "id": "eaad29be-a2e9-4b55-9c57-4304d10eb595",
   "metadata": {},
   "outputs": [
    {
     "name": "stdout",
     "output_type": "stream",
     "text": [
      "Requirement already satisfied: pillow in c:\\users\\santhosh\\anaconda3\\envs\\tfenv\\lib\\site-packages (11.2.1)\n",
      "Requirement already satisfied: ipywidgets in c:\\users\\santhosh\\anaconda3\\envs\\tfenv\\lib\\site-packages (8.1.7)\n",
      "Requirement already satisfied: ipython in c:\\users\\santhosh\\anaconda3\\envs\\tfenv\\lib\\site-packages (8.36.0)\n",
      "Requirement already satisfied: comm>=0.1.3 in c:\\users\\santhosh\\anaconda3\\envs\\tfenv\\lib\\site-packages (from ipywidgets) (0.2.2)\n",
      "Requirement already satisfied: traitlets>=4.3.1 in c:\\users\\santhosh\\anaconda3\\envs\\tfenv\\lib\\site-packages (from ipywidgets) (5.14.3)\n",
      "Requirement already satisfied: widgetsnbextension~=4.0.14 in c:\\users\\santhosh\\anaconda3\\envs\\tfenv\\lib\\site-packages (from ipywidgets) (4.0.14)\n",
      "Requirement already satisfied: jupyterlab_widgets~=3.0.15 in c:\\users\\santhosh\\anaconda3\\envs\\tfenv\\lib\\site-packages (from ipywidgets) (3.0.15)\n",
      "Requirement already satisfied: colorama in c:\\users\\santhosh\\anaconda3\\envs\\tfenv\\lib\\site-packages (from ipython) (0.4.6)\n",
      "Requirement already satisfied: decorator in c:\\users\\santhosh\\anaconda3\\envs\\tfenv\\lib\\site-packages (from ipython) (5.2.1)\n",
      "Requirement already satisfied: exceptiongroup in c:\\users\\santhosh\\anaconda3\\envs\\tfenv\\lib\\site-packages (from ipython) (1.3.0)\n",
      "Requirement already satisfied: jedi>=0.16 in c:\\users\\santhosh\\anaconda3\\envs\\tfenv\\lib\\site-packages (from ipython) (0.19.2)\n",
      "Requirement already satisfied: matplotlib-inline in c:\\users\\santhosh\\anaconda3\\envs\\tfenv\\lib\\site-packages (from ipython) (0.1.7)\n",
      "Requirement already satisfied: prompt_toolkit<3.1.0,>=3.0.41 in c:\\users\\santhosh\\anaconda3\\envs\\tfenv\\lib\\site-packages (from ipython) (3.0.51)\n",
      "Requirement already satisfied: pygments>=2.4.0 in c:\\users\\santhosh\\anaconda3\\envs\\tfenv\\lib\\site-packages (from ipython) (2.19.1)\n",
      "Requirement already satisfied: stack_data in c:\\users\\santhosh\\anaconda3\\envs\\tfenv\\lib\\site-packages (from ipython) (0.6.3)\n",
      "Requirement already satisfied: typing_extensions>=4.6 in c:\\users\\santhosh\\anaconda3\\envs\\tfenv\\lib\\site-packages (from ipython) (4.13.2)\n",
      "Requirement already satisfied: wcwidth in c:\\users\\santhosh\\anaconda3\\envs\\tfenv\\lib\\site-packages (from prompt_toolkit<3.1.0,>=3.0.41->ipython) (0.2.13)\n",
      "Requirement already satisfied: parso<0.9.0,>=0.8.4 in c:\\users\\santhosh\\anaconda3\\envs\\tfenv\\lib\\site-packages (from jedi>=0.16->ipython) (0.8.4)\n",
      "Requirement already satisfied: executing>=1.2.0 in c:\\users\\santhosh\\anaconda3\\envs\\tfenv\\lib\\site-packages (from stack_data->ipython) (2.2.0)\n",
      "Requirement already satisfied: asttokens>=2.1.0 in c:\\users\\santhosh\\anaconda3\\envs\\tfenv\\lib\\site-packages (from stack_data->ipython) (3.0.0)\n",
      "Requirement already satisfied: pure-eval in c:\\users\\santhosh\\anaconda3\\envs\\tfenv\\lib\\site-packages (from stack_data->ipython) (0.2.3)\n"
     ]
    }
   ],
   "source": [
    "!pip install pillow ipywidgets ipython"
   ]
  },
  {
   "cell_type": "code",
   "execution_count": 1,
   "id": "5e5448a1-9625-4f05-a08b-737127f1fad3",
   "metadata": {},
   "outputs": [
    {
     "name": "stdout",
     "output_type": "stream",
     "text": [
      "Collecting scikit-image\n",
      "  Downloading scikit_image-0.25.2-cp310-cp310-win_amd64.whl.metadata (14 kB)\n",
      "Requirement already satisfied: numpy>=1.24 in c:\\users\\santhosh\\anaconda3\\envs\\tfenv\\lib\\site-packages (from scikit-image) (1.26.4)\n",
      "Requirement already satisfied: scipy>=1.11.4 in c:\\users\\santhosh\\anaconda3\\envs\\tfenv\\lib\\site-packages (from scikit-image) (1.15.3)\n",
      "Collecting networkx>=3.0 (from scikit-image)\n",
      "  Using cached networkx-3.4.2-py3-none-any.whl.metadata (6.3 kB)\n",
      "Requirement already satisfied: pillow>=10.1 in c:\\users\\santhosh\\anaconda3\\envs\\tfenv\\lib\\site-packages (from scikit-image) (11.2.1)\n",
      "Collecting imageio!=2.35.0,>=2.33 (from scikit-image)\n",
      "  Downloading imageio-2.37.0-py3-none-any.whl.metadata (5.2 kB)\n",
      "Collecting tifffile>=2022.8.12 (from scikit-image)\n",
      "  Downloading tifffile-2025.5.10-py3-none-any.whl.metadata (31 kB)\n",
      "Requirement already satisfied: packaging>=21 in c:\\users\\santhosh\\anaconda3\\envs\\tfenv\\lib\\site-packages (from scikit-image) (25.0)\n",
      "Collecting lazy-loader>=0.4 (from scikit-image)\n",
      "  Downloading lazy_loader-0.4-py3-none-any.whl.metadata (7.6 kB)\n",
      "Downloading scikit_image-0.25.2-cp310-cp310-win_amd64.whl (12.8 MB)\n",
      "   ---------------------------------------- 0.0/12.8 MB ? eta -:--:--\n",
      "   ---------------------------------------- 0.0/12.8 MB ? eta -:--:--\n",
      "    --------------------------------------- 0.3/12.8 MB ? eta -:--:--\n",
      "   - -------------------------------------- 0.5/12.8 MB 1.0 MB/s eta 0:00:12\n",
      "   -- ------------------------------------- 0.8/12.8 MB 1.2 MB/s eta 0:00:11\n",
      "   --- ------------------------------------ 1.0/12.8 MB 1.2 MB/s eta 0:00:10\n",
      "   --- ------------------------------------ 1.0/12.8 MB 1.2 MB/s eta 0:00:10\n",
      "   ---- ----------------------------------- 1.3/12.8 MB 1.0 MB/s eta 0:00:11\n",
      "   ---- ----------------------------------- 1.6/12.8 MB 1.1 MB/s eta 0:00:11\n",
      "   ------ --------------------------------- 2.1/12.8 MB 1.1 MB/s eta 0:00:10\n",
      "   ------- -------------------------------- 2.4/12.8 MB 1.1 MB/s eta 0:00:10\n",
      "   -------- ------------------------------- 2.6/12.8 MB 1.2 MB/s eta 0:00:09\n",
      "   --------- ------------------------------ 2.9/12.8 MB 1.2 MB/s eta 0:00:09\n",
      "   --------- ------------------------------ 3.1/12.8 MB 1.2 MB/s eta 0:00:09\n",
      "   ---------- ----------------------------- 3.4/12.8 MB 1.2 MB/s eta 0:00:08\n",
      "   ----------- ---------------------------- 3.7/12.8 MB 1.2 MB/s eta 0:00:08\n",
      "   ------------- -------------------------- 4.2/12.8 MB 1.2 MB/s eta 0:00:07\n",
      "   ------------- -------------------------- 4.5/12.8 MB 1.2 MB/s eta 0:00:07\n",
      "   -------------- ------------------------- 4.7/12.8 MB 1.2 MB/s eta 0:00:07\n",
      "   --------------- ------------------------ 5.0/12.8 MB 1.2 MB/s eta 0:00:07\n",
      "   ---------------- ----------------------- 5.2/12.8 MB 1.3 MB/s eta 0:00:07\n",
      "   ----------------- ---------------------- 5.5/12.8 MB 1.3 MB/s eta 0:00:06\n",
      "   ------------------ --------------------- 5.8/12.8 MB 1.3 MB/s eta 0:00:06\n",
      "   ------------------ --------------------- 6.0/12.8 MB 1.2 MB/s eta 0:00:06\n",
      "   ------------------ --------------------- 6.0/12.8 MB 1.2 MB/s eta 0:00:06\n",
      "   ------------------- -------------------- 6.3/12.8 MB 1.2 MB/s eta 0:00:06\n",
      "   -------------------- ------------------- 6.6/12.8 MB 1.2 MB/s eta 0:00:06\n",
      "   --------------------- ------------------ 6.8/12.8 MB 1.2 MB/s eta 0:00:06\n",
      "   --------------------- ------------------ 6.8/12.8 MB 1.2 MB/s eta 0:00:06\n",
      "   ---------------------- ----------------- 7.1/12.8 MB 1.2 MB/s eta 0:00:05\n",
      "   ---------------------- ----------------- 7.3/12.8 MB 1.2 MB/s eta 0:00:05\n",
      "   ----------------------- ---------------- 7.6/12.8 MB 1.2 MB/s eta 0:00:05\n",
      "   ------------------------ --------------- 7.9/12.8 MB 1.2 MB/s eta 0:00:05\n",
      "   ------------------------- -------------- 8.1/12.8 MB 1.2 MB/s eta 0:00:05\n",
      "   ------------------------- -------------- 8.1/12.8 MB 1.2 MB/s eta 0:00:05\n",
      "   -------------------------- ------------- 8.4/12.8 MB 1.1 MB/s eta 0:00:04\n",
      "   --------------------------- ------------ 8.7/12.8 MB 1.1 MB/s eta 0:00:04\n",
      "   --------------------------- ------------ 8.9/12.8 MB 1.1 MB/s eta 0:00:04\n",
      "   ---------------------------- ----------- 9.2/12.8 MB 1.1 MB/s eta 0:00:04\n",
      "   ----------------------------- ---------- 9.4/12.8 MB 1.1 MB/s eta 0:00:03\n",
      "   ------------------------------ --------- 9.7/12.8 MB 1.1 MB/s eta 0:00:03\n",
      "   ------------------------------- -------- 10.0/12.8 MB 1.1 MB/s eta 0:00:03\n",
      "   ------------------------------- -------- 10.0/12.8 MB 1.1 MB/s eta 0:00:03\n",
      "   ------------------------------- -------- 10.2/12.8 MB 1.1 MB/s eta 0:00:03\n",
      "   -------------------------------- ------- 10.5/12.8 MB 1.1 MB/s eta 0:00:03\n",
      "   ---------------------------------- ----- 11.0/12.8 MB 1.1 MB/s eta 0:00:02\n",
      "   ---------------------------------- ----- 11.0/12.8 MB 1.1 MB/s eta 0:00:02\n",
      "   ------------------------------------ --- 11.5/12.8 MB 1.1 MB/s eta 0:00:02\n",
      "   ------------------------------------ --- 11.5/12.8 MB 1.1 MB/s eta 0:00:02\n",
      "   ------------------------------------ --- 11.8/12.8 MB 1.1 MB/s eta 0:00:01\n",
      "   ------------------------------------- -- 12.1/12.8 MB 1.1 MB/s eta 0:00:01\n",
      "   ------------------------------------- -- 12.1/12.8 MB 1.1 MB/s eta 0:00:01\n",
      "   -------------------------------------- - 12.3/12.8 MB 1.1 MB/s eta 0:00:01\n",
      "   ---------------------------------------  12.6/12.8 MB 1.1 MB/s eta 0:00:01\n",
      "   ---------------------------------------- 12.8/12.8 MB 1.1 MB/s eta 0:00:00\n",
      "Downloading imageio-2.37.0-py3-none-any.whl (315 kB)\n",
      "Downloading lazy_loader-0.4-py3-none-any.whl (12 kB)\n",
      "Using cached networkx-3.4.2-py3-none-any.whl (1.7 MB)\n",
      "Downloading tifffile-2025.5.10-py3-none-any.whl (226 kB)\n",
      "Installing collected packages: tifffile, networkx, lazy-loader, imageio, scikit-image\n",
      "\n",
      "   ---------------------------------------- 0/5 [tifffile]\n",
      "   -------- ------------------------------- 1/5 [networkx]\n",
      "   -------- ------------------------------- 1/5 [networkx]\n",
      "   -------- ------------------------------- 1/5 [networkx]\n",
      "   -------- ------------------------------- 1/5 [networkx]\n",
      "   -------- ------------------------------- 1/5 [networkx]\n",
      "   -------- ------------------------------- 1/5 [networkx]\n",
      "   -------- ------------------------------- 1/5 [networkx]\n",
      "   -------- ------------------------------- 1/5 [networkx]\n",
      "   -------- ------------------------------- 1/5 [networkx]\n",
      "   -------- ------------------------------- 1/5 [networkx]\n",
      "   -------- ------------------------------- 1/5 [networkx]\n",
      "   -------- ------------------------------- 1/5 [networkx]\n",
      "   -------- ------------------------------- 1/5 [networkx]\n",
      "   -------- ------------------------------- 1/5 [networkx]\n",
      "   -------- ------------------------------- 1/5 [networkx]\n",
      "   -------- ------------------------------- 1/5 [networkx]\n",
      "   -------- ------------------------------- 1/5 [networkx]\n",
      "   -------- ------------------------------- 1/5 [networkx]\n",
      "   -------- ------------------------------- 1/5 [networkx]\n",
      "   -------- ------------------------------- 1/5 [networkx]\n",
      "   -------- ------------------------------- 1/5 [networkx]\n",
      "   -------- ------------------------------- 1/5 [networkx]\n",
      "   -------- ------------------------------- 1/5 [networkx]\n",
      "   -------- ------------------------------- 1/5 [networkx]\n",
      "   -------- ------------------------------- 1/5 [networkx]\n",
      "   -------- ------------------------------- 1/5 [networkx]\n",
      "   -------- ------------------------------- 1/5 [networkx]\n",
      "   -------- ------------------------------- 1/5 [networkx]\n",
      "   -------- ------------------------------- 1/5 [networkx]\n",
      "   -------- ------------------------------- 1/5 [networkx]\n",
      "   -------- ------------------------------- 1/5 [networkx]\n",
      "   -------- ------------------------------- 1/5 [networkx]\n",
      "   -------- ------------------------------- 1/5 [networkx]\n",
      "   -------- ------------------------------- 1/5 [networkx]\n",
      "   -------- ------------------------------- 1/5 [networkx]\n",
      "   -------- ------------------------------- 1/5 [networkx]\n",
      "   -------- ------------------------------- 1/5 [networkx]\n",
      "   -------- ------------------------------- 1/5 [networkx]\n",
      "   -------- ------------------------------- 1/5 [networkx]\n",
      "   -------- ------------------------------- 1/5 [networkx]\n",
      "   -------- ------------------------------- 1/5 [networkx]\n",
      "   ---------------- ----------------------- 2/5 [lazy-loader]\n",
      "   ------------------------ --------------- 3/5 [imageio]\n",
      "   ------------------------ --------------- 3/5 [imageio]\n",
      "   ------------------------ --------------- 3/5 [imageio]\n",
      "   ------------------------ --------------- 3/5 [imageio]\n",
      "   ------------------------ --------------- 3/5 [imageio]\n",
      "   -------------------------------- ------- 4/5 [scikit-image]\n",
      "   -------------------------------- ------- 4/5 [scikit-image]\n",
      "   -------------------------------- ------- 4/5 [scikit-image]\n",
      "   -------------------------------- ------- 4/5 [scikit-image]\n",
      "   -------------------------------- ------- 4/5 [scikit-image]\n",
      "   -------------------------------- ------- 4/5 [scikit-image]\n",
      "   -------------------------------- ------- 4/5 [scikit-image]\n",
      "   -------------------------------- ------- 4/5 [scikit-image]\n",
      "   -------------------------------- ------- 4/5 [scikit-image]\n",
      "   -------------------------------- ------- 4/5 [scikit-image]\n",
      "   -------------------------------- ------- 4/5 [scikit-image]\n",
      "   -------------------------------- ------- 4/5 [scikit-image]\n",
      "   -------------------------------- ------- 4/5 [scikit-image]\n",
      "   -------------------------------- ------- 4/5 [scikit-image]\n",
      "   -------------------------------- ------- 4/5 [scikit-image]\n",
      "   -------------------------------- ------- 4/5 [scikit-image]\n",
      "   -------------------------------- ------- 4/5 [scikit-image]\n",
      "   -------------------------------- ------- 4/5 [scikit-image]\n",
      "   -------------------------------- ------- 4/5 [scikit-image]\n",
      "   -------------------------------- ------- 4/5 [scikit-image]\n",
      "   -------------------------------- ------- 4/5 [scikit-image]\n",
      "   -------------------------------- ------- 4/5 [scikit-image]\n",
      "   -------------------------------- ------- 4/5 [scikit-image]\n",
      "   -------------------------------- ------- 4/5 [scikit-image]\n",
      "   -------------------------------- ------- 4/5 [scikit-image]\n",
      "   -------------------------------- ------- 4/5 [scikit-image]\n",
      "   -------------------------------- ------- 4/5 [scikit-image]\n",
      "   -------------------------------- ------- 4/5 [scikit-image]\n",
      "   -------------------------------- ------- 4/5 [scikit-image]\n",
      "   -------------------------------- ------- 4/5 [scikit-image]\n",
      "   ---------------------------------------- 5/5 [scikit-image]\n",
      "\n",
      "Successfully installed imageio-2.37.0 lazy-loader-0.4 networkx-3.4.2 scikit-image-0.25.2 tifffile-2025.5.10\n"
     ]
    }
   ],
   "source": [
    "!pip install scikit-image"
   ]
  },
  {
   "cell_type": "code",
   "execution_count": 2,
   "id": "9c040154-25fb-4a8d-8afa-ecceaca67ab9",
   "metadata": {},
   "outputs": [
    {
     "name": "stdout",
     "output_type": "stream",
     "text": [
      "WARNING:tensorflow:From C:\\Users\\santhosh\\AppData\\Roaming\\Python\\Python310\\site-packages\\tf_keras\\src\\losses.py:2976: The name tf.losses.sparse_softmax_cross_entropy is deprecated. Please use tf.compat.v1.losses.sparse_softmax_cross_entropy instead.\n",
      "\n"
     ]
    },
    {
     "data": {
      "application/vnd.jupyter.widget-view+json": {
       "model_id": "f58b765db52b448abf41d49d95f8541f",
       "version_major": 2,
       "version_minor": 0
      },
      "text/plain": [
       "FileUpload(value=(), accept='image/*', description='Upload')"
      ]
     },
     "metadata": {},
     "output_type": "display_data"
    }
   ],
   "source": [
    "# Importing all the required packages and libraries\n",
    "import tensorflow as tf\n",
    "import tensorflow_hub as hub\n",
    "import numpy as np\n",
    "import matplotlib.pyplot as plt\n",
    "from PIL import Image\n",
    "import io\n",
    "import ipywidgets as widgets\n",
    "from IPython.display import display\n",
    "from skimage.color import rgb2lab, lab2rgb\n",
    "from skimage.exposure import adjust_gamma\n",
    "\n",
    "# Upload widget\n",
    "upload = widgets.FileUpload(accept='image/*', multiple=False)\n",
    "display(upload)"
   ]
  },
  {
   "cell_type": "code",
   "execution_count": 5,
   "id": "968c2393-5c93-4189-baa2-1ddbe44d5a0c",
   "metadata": {},
   "outputs": [
    {
     "data": {
      "application/vnd.jupyter.widget-view+json": {
       "model_id": "e5c33fa1f8554690ad67c7219edfcf70",
       "version_major": 2,
       "version_minor": 0
      },
      "text/plain": [
       "FloatSlider(value=1.0, continuous_update=False, description='Brightness:', max=2.0, min=0.5)"
      ]
     },
     "metadata": {},
     "output_type": "display_data"
    },
    {
     "name": "stdout",
     "output_type": "stream",
     "text": [
      "⏳ Loading ESRGAN model...\n",
      "WARNING:tensorflow:From C:\\Users\\santhosh\\AppData\\Roaming\\Python\\Python310\\site-packages\\tensorflow_hub\\resolver.py:120: The name tf.gfile.MakeDirs is deprecated. Please use tf.io.gfile.makedirs instead.\n",
      "\n"
     ]
    },
    {
     "name": "stderr",
     "output_type": "stream",
     "text": [
      "WARNING:tensorflow:From C:\\Users\\santhosh\\AppData\\Roaming\\Python\\Python310\\site-packages\\tensorflow_hub\\resolver.py:120: The name tf.gfile.MakeDirs is deprecated. Please use tf.io.gfile.makedirs instead.\n",
      "\n"
     ]
    },
    {
     "name": "stdout",
     "output_type": "stream",
     "text": [
      "WARNING:tensorflow:From C:\\Users\\santhosh\\AppData\\Roaming\\Python\\Python310\\site-packages\\tensorflow_hub\\module_v2.py:126: The name tf.saved_model.load_v2 is deprecated. Please use tf.compat.v2.saved_model.load instead.\n",
      "\n"
     ]
    },
    {
     "name": "stderr",
     "output_type": "stream",
     "text": [
      "WARNING:tensorflow:From C:\\Users\\santhosh\\AppData\\Roaming\\Python\\Python310\\site-packages\\tensorflow_hub\\module_v2.py:126: The name tf.saved_model.load_v2 is deprecated. Please use tf.compat.v2.saved_model.load instead.\n",
      "\n"
     ]
    },
    {
     "name": "stdout",
     "output_type": "stream",
     "text": [
      "✅ Model loaded!\n",
      "📊 Original dimensions: (415, 410, 3)\n",
      "⚙️ Enhancing image resolution...\n"
     ]
    },
    {
     "ename": "NameError",
     "evalue": "name 'resize' is not defined",
     "output_type": "error",
     "traceback": [
      "\u001b[1;31m---------------------------------------------------------------------------\u001b[0m",
      "\u001b[1;31mNameError\u001b[0m                                 Traceback (most recent call last)",
      "Cell \u001b[1;32mIn[5], line 127\u001b[0m\n\u001b[0;32m    125\u001b[0m \u001b[38;5;66;03m# Apply resolution enhancement\u001b[39;00m\n\u001b[0;32m    126\u001b[0m \u001b[38;5;28mprint\u001b[39m(\u001b[38;5;124m\"\u001b[39m\u001b[38;5;124m⚙️ Enhancing image resolution...\u001b[39m\u001b[38;5;124m\"\u001b[39m)\n\u001b[1;32m--> 127\u001b[0m enhanced_img \u001b[38;5;241m=\u001b[39m \u001b[43menhance_resolution\u001b[49m\u001b[43m(\u001b[49m\u001b[43mmodel\u001b[49m\u001b[43m,\u001b[49m\u001b[43m \u001b[49m\u001b[43mimg_array\u001b[49m\u001b[43m,\u001b[49m\u001b[43m \u001b[49m\u001b[43mbrightness_slider\u001b[49m\u001b[38;5;241;43m.\u001b[39;49m\u001b[43mvalue\u001b[49m\u001b[43m)\u001b[49m\n\u001b[0;32m    129\u001b[0m \u001b[38;5;66;03m# Display comparison\u001b[39;00m\n\u001b[0;32m    130\u001b[0m plot_comparison(img_array, enhanced_img)\n",
      "Cell \u001b[1;32mIn[5], line 55\u001b[0m, in \u001b[0;36menhance_resolution\u001b[1;34m(model, original_img, brightness)\u001b[0m\n\u001b[0;32m     52\u001b[0m sr_h, sr_w \u001b[38;5;241m=\u001b[39m sr_rgb\u001b[38;5;241m.\u001b[39mshape[:\u001b[38;5;241m2\u001b[39m]\n\u001b[0;32m     54\u001b[0m \u001b[38;5;66;03m# Resize original LAB to match SR dimensions (for color channels)\u001b[39;00m\n\u001b[1;32m---> 55\u001b[0m original_lab_resized \u001b[38;5;241m=\u001b[39m \u001b[43mresize\u001b[49m(original_lab, (sr_h, sr_w), \n\u001b[0;32m     56\u001b[0m                              order\u001b[38;5;241m=\u001b[39m\u001b[38;5;241m1\u001b[39m, mode\u001b[38;5;241m=\u001b[39m\u001b[38;5;124m'\u001b[39m\u001b[38;5;124mreflect\u001b[39m\u001b[38;5;124m'\u001b[39m, anti_aliasing\u001b[38;5;241m=\u001b[39m\u001b[38;5;28;01mTrue\u001b[39;00m)\n\u001b[0;32m     58\u001b[0m \u001b[38;5;66;03m# Adjust brightness in L channel (0-100 range)\u001b[39;00m\n\u001b[0;32m     59\u001b[0m enhanced_l \u001b[38;5;241m=\u001b[39m np\u001b[38;5;241m.\u001b[39mclip(sr_lab[:,:,\u001b[38;5;241m0\u001b[39m] \u001b[38;5;241m*\u001b[39m brightness, \u001b[38;5;241m0\u001b[39m, \u001b[38;5;241m100\u001b[39m)\n",
      "\u001b[1;31mNameError\u001b[0m: name 'resize' is not defined"
     ]
    }
   ],
   "source": [
    "\n",
    "# Brightness adjustment slider\n",
    "brightness_slider = widgets.FloatSlider(\n",
    "    value=1.0,\n",
    "    min=0.5,\n",
    "    max=2.0,\n",
    "    step=0.1,\n",
    "    description='Brightness:',\n",
    "    continuous_update=False\n",
    ")\n",
    "display(brightness_slider)\n",
    "\n",
    "def get_uploaded_image(upload_widget):\n",
    "    \"\"\"Process uploaded image and return PIL and numpy array versions\"\"\"\n",
    "    if not upload_widget.value:\n",
    "        print(\"❌ No image uploaded.\")\n",
    "        return None, None\n",
    "    \n",
    "    try:\n",
    "        file_info = upload_widget.value[0] if isinstance(upload_widget.value, tuple) else next(iter(upload_widget.value.values()))\n",
    "        image_data = file_info['content']\n",
    "        pil_img = Image.open(io.BytesIO(image_data)).convert('RGB')\n",
    "        return pil_img, np.array(pil_img)\n",
    "    except Exception as e:\n",
    "        print(f\"❌ Error processing image: {e}\")\n",
    "        return None, None\n",
    "\n",
    "def preprocess_for_esrgan(image_array):\n",
    "    \"\"\"Prepare image for ESRGAN model (divisible by 4)\"\"\"\n",
    "    h, w = image_array.shape[:2]\n",
    "    new_h, new_w = (h // 4) * 4, (w // 4) * 4\n",
    "    cropped = image_array[:new_h, :new_w]\n",
    "    return cropped.astype(np.float32) / 255.0\n",
    "\n",
    "def enhance_resolution(model, original_img, brightness=1.0):\n",
    "    \"\"\"\n",
    "    True resolution enhancement with brightness control:\n",
    "    1. Process original through ESRGAN\n",
    "    2. Blend with original colors in LAB space\n",
    "    3. Adjust brightness while preserving details\n",
    "    \"\"\"\n",
    "    # Preprocess original image\n",
    "    original_processed = preprocess_for_esrgan(original_img)\n",
    "    original_lab = rgb2lab(original_processed)\n",
    "    \n",
    "    # Apply super-resolution\n",
    "    sr_output = model(tf.convert_to_tensor(original_processed[np.newaxis, ...]))\n",
    "    sr_rgb = tf.squeeze(sr_output).numpy()\n",
    "    sr_rgb = np.clip(sr_rgb, 0, 1)\n",
    "    sr_lab = rgb2lab(sr_rgb)\n",
    "    \n",
    "    # Get dimensions\n",
    "    sr_h, sr_w = sr_rgb.shape[:2]\n",
    "    \n",
    "    # Resize original LAB to match SR dimensions (for color channels)\n",
    "    original_lab_resized = resize(original_lab, (sr_h, sr_w), \n",
    "                                 order=1, mode='reflect', anti_aliasing=True)\n",
    "    \n",
    "    # Adjust brightness in L channel (0-100 range)\n",
    "    enhanced_l = np.clip(sr_lab[:,:,0] * brightness, 0, 100)\n",
    "    \n",
    "    # Combine enhanced L with original AB channels\n",
    "    blended_lab = np.zeros_like(sr_lab)\n",
    "    blended_lab[:,:,0] = enhanced_l\n",
    "    blended_lab[:,:,1:] = original_lab_resized[:,:,1:]\n",
    "    \n",
    "    # Convert back to RGB\n",
    "    final_rgb = lab2rgb(blended_lab) * 255.0\n",
    "    final_rgb = np.clip(final_rgb, 0, 255).astype(np.uint8)\n",
    "    \n",
    "    # Apply gamma correction if brightness was adjusted\n",
    "    if brightness != 1.0:\n",
    "        final_rgb = adjust_gamma(final_rgb, gamma=1.0/brightness)\n",
    "    \n",
    "    return final_rgb\n",
    "\n",
    "def plot_comparison(original, enhanced):\n",
    "    \"\"\"Show resolution comparison with zoomed details\"\"\"\n",
    "    plt.figure(figsize=(20, 10))\n",
    "    \n",
    "    # Original image (resized to match enhanced dimensions)\n",
    "    plt.subplot(1, 2, 1)\n",
    "    resized_original = np.array(Image.fromarray(original).resize(\n",
    "        (enhanced.shape[1], enhanced.shape[0]), Image.BICUBIC))\n",
    "    plt.imshow(resized_original)\n",
    "    plt.title(f\"Original (resized to {enhanced.shape[1]}×{enhanced.shape[0]})\")\n",
    "    plt.axis('off')\n",
    "    \n",
    "    # Enhanced image\n",
    "    plt.subplot(1, 2, 2)\n",
    "    plt.imshow(enhanced)\n",
    "    plt.title(f\"Enhanced ({enhanced.shape[1]}×{enhanced.shape[0]})\")\n",
    "    plt.axis('off')\n",
    "    \n",
    "    # Zoomed comparison (center region)\n",
    "    plt.figure(figsize=(20, 5))\n",
    "    zoom_size = min(200, enhanced.shape[0]//3, enhanced.shape[1]//3)  # 1/3 of smaller dimension or 200px\n",
    "    y, x = enhanced.shape[0]//2 - zoom_size//2, enhanced.shape[1]//2 - zoom_size//2\n",
    "    \n",
    "    plt.subplot(1, 2, 1)\n",
    "    plt.imshow(resized_original[y:y+zoom_size, x:x+zoom_size])\n",
    "    plt.title(\"Original (Zoomed)\")\n",
    "    plt.axis('off')\n",
    "    \n",
    "    plt.subplot(1, 2, 2)\n",
    "    plt.imshow(enhanced[y:y+zoom_size, x:x+zoom_size])\n",
    "    plt.title(\"Enhanced (Zoomed)\")\n",
    "    plt.axis('off')\n",
    "    \n",
    "    plt.tight_layout()\n",
    "    plt.show()\n",
    "\n",
    "# Main processing\n",
    "if upload.value:\n",
    "    # Load model\n",
    "    print(\"⏳ Loading ESRGAN model...\")\n",
    "    model = hub.load(\"https://tfhub.dev/captain-pool/esrgan-tf2/1\")\n",
    "    print(\"✅ Model loaded!\")\n",
    "    \n",
    "    # Get uploaded image\n",
    "    pil_img, img_array = get_uploaded_image(upload)\n",
    "    \n",
    "    if img_array is not None:\n",
    "        print(f\"📊 Original dimensions: {img_array.shape}\")\n",
    "        \n",
    "        # Apply resolution enhancement\n",
    "        print(\"⚙️ Enhancing image resolution...\")\n",
    "        enhanced_img = enhance_resolution(model, img_array, brightness_slider.value)\n",
    "        \n",
    "        # Display comparison\n",
    "        plot_comparison(img_array, enhanced_img)\n",
    "        \n",
    "        # Save option\n",
    "        display(Image.fromarray(enhanced_img))\n",
    "    else:\n",
    "        print(\"❌ Failed to process image.\")\n",
    "else:\n",
    "    print(\"ℹ️ Please upload an image.\")\n",
    "\n",
    "# Interactive brightness adjustment\n",
    "def on_brightness_change(change):\n",
    "    if upload.value and 'img_array' in globals():\n",
    "        print(\"🔄 Updating with new brightness...\")\n",
    "        enhanced_img = enhance_resolution(model, img_array, change['new'])\n",
    "        display(Image.fromarray(enhanced_img))\n",
    "\n",
    "brightness_slider.observe(on_brightness_change, names='value')"
   ]
  },
  {
   "cell_type": "code",
   "execution_count": null,
   "id": "7daabcdd-94ee-4fc6-a0e9-3f64ae393fa2",
   "metadata": {},
   "outputs": [],
   "source": []
  }
 ],
 "metadata": {
  "kernelspec": {
   "display_name": "Python (tfenv)",
   "language": "python",
   "name": "tfenv"
  },
  "language_info": {
   "codemirror_mode": {
    "name": "ipython",
    "version": 3
   },
   "file_extension": ".py",
   "mimetype": "text/x-python",
   "name": "python",
   "nbconvert_exporter": "python",
   "pygments_lexer": "ipython3",
   "version": "3.10.16"
  }
 },
 "nbformat": 4,
 "nbformat_minor": 5
}
